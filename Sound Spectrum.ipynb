{
 "cells": [
  {
   "cell_type": "code",
   "execution_count": 1,
   "metadata": {},
   "outputs": [
    {
     "name": "stderr",
     "output_type": "stream",
     "text": [
      "Using TensorFlow backend.\n"
     ]
    }
   ],
   "source": [
    "import matplotlib.pyplot as plt\n",
    "from scipy import signal\n",
    "from scipy.io import wavfile\n",
    "from scipy.fftpack import fft\n",
    "import os\n",
    "import numpy as np\n",
    "import random\n",
    "#To find the duration of wave file in seconds\n",
    "import wave\n",
    "import contextlib\n",
    "#Keras imports\n",
    "import keras\n",
    "from keras.models import Sequential\n",
    "from keras.layers import Dense, Conv2D, Dropout, Flatten, MaxPooling2D"
   ]
  },
  {
   "cell_type": "code",
   "execution_count": 135,
   "metadata": {},
   "outputs": [],
   "source": [
    "imheight = imwidth = 32\n",
    "total_examples = 2000\n",
    "speakers = 4\n",
    "examples_per_speaker = 50\n",
    "tt_split = 0.1\n",
    "num_classes = 10"
   ]
  },
  {
   "cell_type": "code",
   "execution_count": 132,
   "metadata": {},
   "outputs": [],
   "source": [
    "def find_spectrum(audio_file):\n",
    "    fft_samples = 2048\n",
    "    fs, samples = wavfile.read(audio_file) # load the data\n",
    "    yf = fft(samples, n=fft_samples)\n",
    "    yy = np.abs(yf[:fft_samples//2])\n",
    "    return np.reshape(yy, (imheight, imwidth))"
   ]
  },
  {
   "cell_type": "code",
   "execution_count": 4,
   "metadata": {},
   "outputs": [],
   "source": [
    "def normalize_gray(array):\n",
    "    return (array - array.min())/(array.max() - array.min())"
   ]
  },
  {
   "cell_type": "code",
   "execution_count": 5,
   "metadata": {},
   "outputs": [],
   "source": [
    "def rgb2gray(rgb):\n",
    "    return np.dot(rgb[...,:3], [0.299, 0.587, 0.114])"
   ]
  },
  {
   "cell_type": "code",
   "execution_count": 133,
   "metadata": {},
   "outputs": [],
   "source": [
    "def create_train_test(audio_dir):\n",
    "    file_names = [f for f in os.listdir(audio_dir) if '.wav' in f]\n",
    "    file_names.sort()\n",
    "    test_list = []\n",
    "    train_list = []\n",
    "    \n",
    "    for i in range(int(total_examples/examples_per_speaker)):\n",
    "        test_list.extend(random.sample(file_names[(i*examples_per_speaker+1):(i+1)*examples_per_speaker], int(examples_per_speaker*tt_split)))\n",
    "\n",
    "    train_list = [x for x in file_names if x not in test_list]\n",
    "\n",
    "    y_test = np.zeros(len(test_list))\n",
    "    y_train = np.zeros(len(train_list))\n",
    "    x_train = np.zeros((len(train_list), imheight, imwidth))\n",
    "    x_test = np.zeros((len(test_list), imheight, imwidth))\n",
    "\n",
    "    for i, f in enumerate(test_list):\n",
    "        y_test[i] = int(f[0])\n",
    "        x_test[i,:,:] = normalize_gray(find_spectrum(audio_dir + f))\n",
    "        \n",
    "    for i, f in enumerate(train_list):\n",
    "        y_train[i] = int(f[0])\n",
    "        x_train[i,:,:] = normalize_gray(find_spectrum(audio_dir + f))\n",
    "        \n",
    "    return x_train, y_train, x_test, y_test"
   ]
  },
  {
   "cell_type": "code",
   "execution_count": 136,
   "metadata": {},
   "outputs": [],
   "source": [
    "x_train, y_train, x_test, y_test = create_train_test('./recordings/')"
   ]
  },
  {
   "cell_type": "code",
   "execution_count": 137,
   "metadata": {},
   "outputs": [],
   "source": [
    "y_train = keras.utils.to_categorical(y_train, num_classes)\n",
    "y_test = keras.utils.to_categorical(y_test, num_classes)"
   ]
  },
  {
   "cell_type": "code",
   "execution_count": 152,
   "metadata": {},
   "outputs": [],
   "source": [
    "x_train = x_train.reshape(x_train.shape[0], imheight, imwidth, 1)\n",
    "x_test = x_test.reshape(x_test.shape[0], imheight, imwidth, 1)\n",
    "input_shape = (imheight, imwidth, 1)\n",
    "batch_size = 100\n",
    "epochs = 12"
   ]
  },
  {
   "cell_type": "code",
   "execution_count": 149,
   "metadata": {},
   "outputs": [
    {
     "data": {
      "text/plain": [
       "<matplotlib.image.AxesImage at 0x142bd5e74a8>"
      ]
     },
     "execution_count": 149,
     "metadata": {},
     "output_type": "execute_result"
    },
    {
     "data": {
      "image/png": "[encoded data removed]",
      "text/plain": [
       "<Figure size 432x288 with 1 Axes>"
      ]
     },
     "metadata": {
      "needs_background": "light"
     },
     "output_type": "display_data"
    }
   ],
   "source": [
    "plt.imshow(x_train[500][:,:,0])"
   ]
  },
  {
   "cell_type": "code",
   "execution_count": 145,
   "metadata": {},
   "outputs": [],
   "source": [
    "model = Sequential()\n",
    "model.add(Conv2D(32, kernel_size=(3, 3), activation='relu', input_shape=input_shape))\n",
    "model.add(Conv2D(64, kernel_size=(3, 3), activation='relu'))\n",
    "model.add(MaxPooling2D(pool_size=(2, 2)))\n",
    "model.add(Dropout(0.25))\n",
    "model.add(Flatten())\n",
    "model.add(Dense(128, activation='relu'))\n",
    "model.add(Dropout(0.5))\n",
    "model.add(Dense(num_classes, activation='softmax'))"
   ]
  },
  {
   "cell_type": "code",
   "execution_count": 146,
   "metadata": {},
   "outputs": [],
   "source": [
    "model.compile(loss=keras.losses.categorical_crossentropy, optimizer=keras.optimizers.adam(), metrics=['accuracy'])"
   ]
  },
  {
   "cell_type": "code",
   "execution_count": 147,
   "metadata": {},
   "outputs": [
    {
     "name": "stdout",
     "output_type": "stream",
     "text": [
      "_________________________________________________________________\n",
      "Layer (type)                 Output Shape              Param #   \n",
      "=================================================================\n",
      "conv2d_7 (Conv2D)            (None, 30, 30, 32)        320       \n",
      "_________________________________________________________________\n",
      "conv2d_8 (Conv2D)            (None, 28, 28, 64)        18496     \n",
      "_________________________________________________________________\n",
      "max_pooling2d_4 (MaxPooling2 (None, 14, 14, 64)        0         \n",
      "_________________________________________________________________\n",
      "dropout_7 (Dropout)          (None, 14, 14, 64)        0         \n",
      "_________________________________________________________________\n",
      "flatten_4 (Flatten)          (None, 12544)             0         \n",
      "_________________________________________________________________\n",
      "dense_7 (Dense)              (None, 128)               1605760   \n",
      "_________________________________________________________________\n",
      "dropout_8 (Dropout)          (None, 128)               0         \n",
      "_________________________________________________________________\n",
      "dense_8 (Dense)              (None, 10)                1290      \n",
      "=================================================================\n",
      "Total params: 1,625,866\n",
      "Trainable params: 1,625,866\n",
      "Non-trainable params: 0\n",
      "_________________________________________________________________\n"
     ]
    }
   ],
   "source": [
    "model.summary()"
   ]
  },
  {
   "cell_type": "code",
   "execution_count": 153,
   "metadata": {},
   "outputs": [
    {
     "name": "stdout",
     "output_type": "stream",
     "text": [
      "Train on 1800 samples, validate on 200 samples\n",
      "Epoch 1/12\n",
      "1800/1800 [==============================] - 10s 6ms/step - loss: 0.0554 - acc: 0.9828 - val_loss: 0.3253 - val_acc: 0.9350\n",
      "Epoch 2/12\n",
      "1800/1800 [==============================] - 10s 6ms/step - loss: 0.0676 - acc: 0.9744 - val_loss: 0.3235 - val_acc: 0.9400\n",
      "Epoch 3/12\n",
      "1800/1800 [==============================] - 10s 6ms/step - loss: 0.0666 - acc: 0.9767 - val_loss: 0.3133 - val_acc: 0.9400\n",
      "Epoch 4/12\n",
      "1800/1800 [==============================] - 10s 6ms/step - loss: 0.0545 - acc: 0.9800 - val_loss: 0.3058 - val_acc: 0.9300\n",
      "Epoch 5/12\n",
      "1800/1800 [==============================] - 10s 6ms/step - loss: 0.0546 - acc: 0.9800 - val_loss: 0.3082 - val_acc: 0.9350\n",
      "Epoch 6/12\n",
      "1800/1800 [==============================] - 11s 6ms/step - loss: 0.0533 - acc: 0.9811 - val_loss: 0.3170 - val_acc: 0.9250\n",
      "Epoch 7/12\n",
      "1800/1800 [==============================] - 11s 6ms/step - loss: 0.0471 - acc: 0.9817 - val_loss: 0.3205 - val_acc: 0.9250\n",
      "Epoch 8/12\n",
      "1800/1800 [==============================] - 11s 6ms/step - loss: 0.0429 - acc: 0.9861 - val_loss: 0.3277 - val_acc: 0.9300\n",
      "Epoch 9/12\n",
      "1800/1800 [==============================] - 11s 6ms/step - loss: 0.0384 - acc: 0.9861 - val_loss: 0.3284 - val_acc: 0.9350\n",
      "Epoch 10/12\n",
      "1800/1800 [==============================] - 10s 6ms/step - loss: 0.0524 - acc: 0.9806 - val_loss: 0.3292 - val_acc: 0.9350\n",
      "Epoch 11/12\n",
      "1800/1800 [==============================] - 10s 6ms/step - loss: 0.0437 - acc: 0.9833 - val_loss: 0.3325 - val_acc: 0.9250\n",
      "Epoch 12/12\n",
      "1800/1800 [==============================] - 10s 6ms/step - loss: 0.0477 - acc: 0.9800 - val_loss: 0.3144 - val_acc: 0.9300\n"
     ]
    },
    {
     "data": {
      "text/plain": [
       "<keras.callbacks.History at 0x142be363ac8>"
      ]
     },
     "execution_count": 153,
     "metadata": {},
     "output_type": "execute_result"
    }
   ],
   "source": [
    "model.fit(x_train, y_train, batch_size=batch_size, epochs=epochs, verbose=1, validation_data=(x_test, y_test))"
   ]
  },
  {
   "cell_type": "code",
   "execution_count": null,
   "metadata": {},
   "outputs": [],
   "source": []
  }
 ],
 "metadata": {
  "kernelspec": {
   "display_name": "Python 3",
   "language": "python",
   "name": "python3"
  },
  "language_info": {
   "codemirror_mode": {
    "name": "ipython",
    "version": 3
   },
   "file_extension": ".py",
   "mimetype": "text/x-python",
   "name": "python",
   "nbconvert_exporter": "python",
   "pygments_lexer": "ipython3",
   "version": "3.6.8"
  }
 },
 "nbformat": 4,
 "nbformat_minor": 2
}
